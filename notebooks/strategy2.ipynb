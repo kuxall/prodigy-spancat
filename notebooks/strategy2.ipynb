{
 "cells": [
  {
   "cell_type": "markdown",
   "metadata": {},
   "source": [
    "## Strategies - 2\n",
    "\n",
    "### This is the strategy that should be used by an annotators and start annotating the spans only by selecting the starting and ending points for the given labels but the inner labels that is mentioned below:"
   ]
  },
  {
   "cell_type": "code",
   "execution_count": null,
   "metadata": {},
   "outputs": [],
   "source": [
    "!python -m prodigy spans.manual inner_segmentation blank:en ./annotate/corpus_27_03_2023.jsonl --label PROFILES_NAME,PROFILES_EMAIL,PROFILES_ADDRESS,PROFILES_PHONE,EXPERIENCES_ORGANIZATION,EXPERIENCES_ADDRESS,EXPERIENCES_START,EXPERIENCES_END,EXPERIENCES_POSITION"
   ]
  }
 ],
 "metadata": {
  "kernelspec": {
   "display_name": ".venv",
   "language": "python",
   "name": "python3"
  },
  "language_info": {
   "name": "python",
   "version": "3.10.6"
  },
  "orig_nbformat": 4
 },
 "nbformat": 4,
 "nbformat_minor": 2
}
